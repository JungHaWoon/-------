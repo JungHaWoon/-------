{
 "cells": [
  {
   "cell_type": "code",
   "execution_count": 27,
   "metadata": {},
   "outputs": [],
   "source": [
    "import pandas as pd\n",
    "df = pd.read_csv('./등표기상관측/2012.csv', encoding='EUC-KR')"
   ]
  },
  {
   "cell_type": "code",
   "execution_count": 28,
   "metadata": {},
   "outputs": [
    {
     "data": {
      "text/html": [
       "<div>\n",
       "<style scoped>\n",
       "    .dataframe tbody tr th:only-of-type {\n",
       "        vertical-align: middle;\n",
       "    }\n",
       "\n",
       "    .dataframe tbody tr th {\n",
       "        vertical-align: top;\n",
       "    }\n",
       "\n",
       "    .dataframe thead th {\n",
       "        text-align: right;\n",
       "    }\n",
       "</style>\n",
       "<table border=\"1\" class=\"dataframe\">\n",
       "  <thead>\n",
       "    <tr style=\"text-align: right;\">\n",
       "      <th></th>\n",
       "      <th>지점</th>\n",
       "      <th>일시</th>\n",
       "      <th>풍속(m/s)</th>\n",
       "      <th>최대순간풍속(m/s)</th>\n",
       "      <th>해면기압(hPa)</th>\n",
       "      <th>최대파고(m)</th>\n",
       "      <th>유의파고(m)</th>\n",
       "    </tr>\n",
       "  </thead>\n",
       "  <tbody>\n",
       "    <tr>\n",
       "      <th>0</th>\n",
       "      <td>962</td>\n",
       "      <td>2012-01-01 00:00</td>\n",
       "      <td>5.5</td>\n",
       "      <td>10.4</td>\n",
       "      <td>NaN</td>\n",
       "      <td>0.6</td>\n",
       "      <td>0.4</td>\n",
       "    </tr>\n",
       "    <tr>\n",
       "      <th>1</th>\n",
       "      <td>962</td>\n",
       "      <td>2012-01-01 01:00</td>\n",
       "      <td>5.1</td>\n",
       "      <td>8.1</td>\n",
       "      <td>NaN</td>\n",
       "      <td>0.5</td>\n",
       "      <td>0.3</td>\n",
       "    </tr>\n",
       "    <tr>\n",
       "      <th>2</th>\n",
       "      <td>962</td>\n",
       "      <td>2012-01-01 02:00</td>\n",
       "      <td>5.9</td>\n",
       "      <td>10.2</td>\n",
       "      <td>NaN</td>\n",
       "      <td>0.5</td>\n",
       "      <td>0.3</td>\n",
       "    </tr>\n",
       "    <tr>\n",
       "      <th>3</th>\n",
       "      <td>962</td>\n",
       "      <td>2012-01-01 03:00</td>\n",
       "      <td>5.7</td>\n",
       "      <td>10.2</td>\n",
       "      <td>NaN</td>\n",
       "      <td>0.5</td>\n",
       "      <td>0.3</td>\n",
       "    </tr>\n",
       "    <tr>\n",
       "      <th>4</th>\n",
       "      <td>962</td>\n",
       "      <td>2012-01-01 04:00</td>\n",
       "      <td>2.9</td>\n",
       "      <td>10.2</td>\n",
       "      <td>NaN</td>\n",
       "      <td>0.4</td>\n",
       "      <td>0.3</td>\n",
       "    </tr>\n",
       "  </tbody>\n",
       "</table>\n",
       "</div>"
      ],
      "text/plain": [
       "    지점                일시  풍속(m/s)  최대순간풍속(m/s)  해면기압(hPa)  최대파고(m)  유의파고(m)\n",
       "0  962  2012-01-01 00:00      5.5         10.4        NaN      0.6      0.4\n",
       "1  962  2012-01-01 01:00      5.1          8.1        NaN      0.5      0.3\n",
       "2  962  2012-01-01 02:00      5.9         10.2        NaN      0.5      0.3\n",
       "3  962  2012-01-01 03:00      5.7         10.2        NaN      0.5      0.3\n",
       "4  962  2012-01-01 04:00      2.9         10.2        NaN      0.4      0.3"
      ]
     },
     "execution_count": 28,
     "metadata": {},
     "output_type": "execute_result"
    }
   ],
   "source": [
    "df.head()"
   ]
  },
  {
   "cell_type": "code",
   "execution_count": 29,
   "metadata": {},
   "outputs": [
    {
     "data": {
      "text/plain": [
       "array([962], dtype=int64)"
      ]
     },
     "execution_count": 29,
     "metadata": {},
     "output_type": "execute_result"
    }
   ],
   "source": [
    "df['지점'].unique()"
   ]
  },
  {
   "cell_type": "code",
   "execution_count": 14,
   "metadata": {},
   "outputs": [
    {
     "name": "stdout",
     "output_type": "stream",
     "text": [
      "<class 'pandas.core.frame.DataFrame'>\n",
      "RangeIndex: 8508 entries, 0 to 8507\n",
      "Data columns (total 7 columns):\n",
      " #   Column       Non-Null Count  Dtype  \n",
      "---  ------       --------------  -----  \n",
      " 0   지점           8508 non-null   int64  \n",
      " 1   일시           8508 non-null   object \n",
      " 2   풍속(m/s)      8482 non-null   float64\n",
      " 3   최대순간풍속(m/s)  8504 non-null   float64\n",
      " 4   해면기압(hPa)    6864 non-null   float64\n",
      " 5   최대파고(m)      7224 non-null   float64\n",
      " 6   유의파고(m)      7224 non-null   float64\n",
      "dtypes: float64(5), int64(1), object(1)\n",
      "memory usage: 465.4+ KB\n"
     ]
    }
   ],
   "source": [
    "df.info()"
   ]
  },
  {
   "cell_type": "code",
   "execution_count": 173,
   "metadata": {},
   "outputs": [],
   "source": [
    "df.dropna(inplace=True)"
   ]
  },
  {
   "cell_type": "markdown",
   "metadata": {},
   "source": [
    "# 인덱스 변경"
   ]
  },
  {
   "cell_type": "code",
   "execution_count": 15,
   "metadata": {},
   "outputs": [],
   "source": [
    "df['일시'] = pd.to_datetime(df['일시'])"
   ]
  },
  {
   "cell_type": "code",
   "execution_count": 16,
   "metadata": {},
   "outputs": [
    {
     "name": "stdout",
     "output_type": "stream",
     "text": [
      "<class 'pandas.core.frame.DataFrame'>\n",
      "RangeIndex: 8508 entries, 0 to 8507\n",
      "Data columns (total 7 columns):\n",
      " #   Column       Non-Null Count  Dtype         \n",
      "---  ------       --------------  -----         \n",
      " 0   지점           8508 non-null   int64         \n",
      " 1   일시           8508 non-null   datetime64[ns]\n",
      " 2   풍속(m/s)      8482 non-null   float64       \n",
      " 3   최대순간풍속(m/s)  8504 non-null   float64       \n",
      " 4   해면기압(hPa)    6864 non-null   float64       \n",
      " 5   최대파고(m)      7224 non-null   float64       \n",
      " 6   유의파고(m)      7224 non-null   float64       \n",
      "dtypes: datetime64[ns](1), float64(5), int64(1)\n",
      "memory usage: 465.4 KB\n"
     ]
    }
   ],
   "source": [
    "df.info()"
   ]
  },
  {
   "cell_type": "code",
   "execution_count": 17,
   "metadata": {},
   "outputs": [],
   "source": [
    "df.set_index('일시', inplace=True)"
   ]
  },
  {
   "cell_type": "code",
   "execution_count": 18,
   "metadata": {},
   "outputs": [
    {
     "data": {
      "text/html": [
       "<div>\n",
       "<style scoped>\n",
       "    .dataframe tbody tr th:only-of-type {\n",
       "        vertical-align: middle;\n",
       "    }\n",
       "\n",
       "    .dataframe tbody tr th {\n",
       "        vertical-align: top;\n",
       "    }\n",
       "\n",
       "    .dataframe thead th {\n",
       "        text-align: right;\n",
       "    }\n",
       "</style>\n",
       "<table border=\"1\" class=\"dataframe\">\n",
       "  <thead>\n",
       "    <tr style=\"text-align: right;\">\n",
       "      <th></th>\n",
       "      <th>지점</th>\n",
       "      <th>풍속(m/s)</th>\n",
       "      <th>최대순간풍속(m/s)</th>\n",
       "      <th>해면기압(hPa)</th>\n",
       "      <th>최대파고(m)</th>\n",
       "      <th>유의파고(m)</th>\n",
       "    </tr>\n",
       "    <tr>\n",
       "      <th>일시</th>\n",
       "      <th></th>\n",
       "      <th></th>\n",
       "      <th></th>\n",
       "      <th></th>\n",
       "      <th></th>\n",
       "      <th></th>\n",
       "    </tr>\n",
       "  </thead>\n",
       "  <tbody>\n",
       "    <tr>\n",
       "      <th>2011-01-01 00:00:00</th>\n",
       "      <td>962</td>\n",
       "      <td>11.3</td>\n",
       "      <td>17.2</td>\n",
       "      <td>1011.0</td>\n",
       "      <td>NaN</td>\n",
       "      <td>NaN</td>\n",
       "    </tr>\n",
       "    <tr>\n",
       "      <th>2011-01-01 01:00:00</th>\n",
       "      <td>962</td>\n",
       "      <td>8.8</td>\n",
       "      <td>18.0</td>\n",
       "      <td>1010.9</td>\n",
       "      <td>NaN</td>\n",
       "      <td>NaN</td>\n",
       "    </tr>\n",
       "    <tr>\n",
       "      <th>2011-01-01 02:00:00</th>\n",
       "      <td>962</td>\n",
       "      <td>7.6</td>\n",
       "      <td>18.0</td>\n",
       "      <td>1011.0</td>\n",
       "      <td>NaN</td>\n",
       "      <td>NaN</td>\n",
       "    </tr>\n",
       "    <tr>\n",
       "      <th>2011-01-01 03:00:00</th>\n",
       "      <td>962</td>\n",
       "      <td>9.4</td>\n",
       "      <td>18.0</td>\n",
       "      <td>1011.7</td>\n",
       "      <td>NaN</td>\n",
       "      <td>NaN</td>\n",
       "    </tr>\n",
       "    <tr>\n",
       "      <th>2011-01-01 04:00:00</th>\n",
       "      <td>962</td>\n",
       "      <td>8.4</td>\n",
       "      <td>18.0</td>\n",
       "      <td>1012.0</td>\n",
       "      <td>NaN</td>\n",
       "      <td>NaN</td>\n",
       "    </tr>\n",
       "  </tbody>\n",
       "</table>\n",
       "</div>"
      ],
      "text/plain": [
       "                      지점  풍속(m/s)  최대순간풍속(m/s)  해면기압(hPa)  최대파고(m)  유의파고(m)\n",
       "일시                                                                         \n",
       "2011-01-01 00:00:00  962     11.3         17.2     1011.0      NaN      NaN\n",
       "2011-01-01 01:00:00  962      8.8         18.0     1010.9      NaN      NaN\n",
       "2011-01-01 02:00:00  962      7.6         18.0     1011.0      NaN      NaN\n",
       "2011-01-01 03:00:00  962      9.4         18.0     1011.7      NaN      NaN\n",
       "2011-01-01 04:00:00  962      8.4         18.0     1012.0      NaN      NaN"
      ]
     },
     "execution_count": 18,
     "metadata": {},
     "output_type": "execute_result"
    }
   ],
   "source": [
    "df.head()"
   ]
  },
  {
   "cell_type": "code",
   "execution_count": 19,
   "metadata": {},
   "outputs": [
    {
     "name": "stdout",
     "output_type": "stream",
     "text": [
      "<class 'pandas.core.frame.DataFrame'>\n",
      "DatetimeIndex: 8508 entries, 2011-01-01 00:00:00 to 2011-12-31 23:00:00\n",
      "Data columns (total 6 columns):\n",
      " #   Column       Non-Null Count  Dtype  \n",
      "---  ------       --------------  -----  \n",
      " 0   지점           8508 non-null   int64  \n",
      " 1   풍속(m/s)      8482 non-null   float64\n",
      " 2   최대순간풍속(m/s)  8504 non-null   float64\n",
      " 3   해면기압(hPa)    6864 non-null   float64\n",
      " 4   최대파고(m)      7224 non-null   float64\n",
      " 5   유의파고(m)      7224 non-null   float64\n",
      "dtypes: float64(5), int64(1)\n",
      "memory usage: 465.3 KB\n"
     ]
    }
   ],
   "source": [
    "df.info()"
   ]
  },
  {
   "cell_type": "code",
   "execution_count": 20,
   "metadata": {},
   "outputs": [
    {
     "data": {
      "text/html": [
       "<div>\n",
       "<style scoped>\n",
       "    .dataframe tbody tr th:only-of-type {\n",
       "        vertical-align: middle;\n",
       "    }\n",
       "\n",
       "    .dataframe tbody tr th {\n",
       "        vertical-align: top;\n",
       "    }\n",
       "\n",
       "    .dataframe thead th {\n",
       "        text-align: right;\n",
       "    }\n",
       "</style>\n",
       "<table border=\"1\" class=\"dataframe\">\n",
       "  <thead>\n",
       "    <tr style=\"text-align: right;\">\n",
       "      <th></th>\n",
       "      <th>지점</th>\n",
       "      <th>풍속(m/s)</th>\n",
       "      <th>최대순간풍속(m/s)</th>\n",
       "      <th>해면기압(hPa)</th>\n",
       "      <th>최대파고(m)</th>\n",
       "      <th>유의파고(m)</th>\n",
       "    </tr>\n",
       "    <tr>\n",
       "      <th>일시</th>\n",
       "      <th></th>\n",
       "      <th></th>\n",
       "      <th></th>\n",
       "      <th></th>\n",
       "      <th></th>\n",
       "      <th></th>\n",
       "    </tr>\n",
       "  </thead>\n",
       "  <tbody>\n",
       "    <tr>\n",
       "      <th>2011-01-01 00:00:00</th>\n",
       "      <td>962</td>\n",
       "      <td>11.3</td>\n",
       "      <td>17.2</td>\n",
       "      <td>1011.0</td>\n",
       "      <td>NaN</td>\n",
       "      <td>NaN</td>\n",
       "    </tr>\n",
       "    <tr>\n",
       "      <th>2011-01-01 01:00:00</th>\n",
       "      <td>962</td>\n",
       "      <td>8.8</td>\n",
       "      <td>18.0</td>\n",
       "      <td>1010.9</td>\n",
       "      <td>NaN</td>\n",
       "      <td>NaN</td>\n",
       "    </tr>\n",
       "    <tr>\n",
       "      <th>2011-01-01 02:00:00</th>\n",
       "      <td>962</td>\n",
       "      <td>7.6</td>\n",
       "      <td>18.0</td>\n",
       "      <td>1011.0</td>\n",
       "      <td>NaN</td>\n",
       "      <td>NaN</td>\n",
       "    </tr>\n",
       "    <tr>\n",
       "      <th>2011-01-01 03:00:00</th>\n",
       "      <td>962</td>\n",
       "      <td>9.4</td>\n",
       "      <td>18.0</td>\n",
       "      <td>1011.7</td>\n",
       "      <td>NaN</td>\n",
       "      <td>NaN</td>\n",
       "    </tr>\n",
       "    <tr>\n",
       "      <th>2011-01-01 04:00:00</th>\n",
       "      <td>962</td>\n",
       "      <td>8.4</td>\n",
       "      <td>18.0</td>\n",
       "      <td>1012.0</td>\n",
       "      <td>NaN</td>\n",
       "      <td>NaN</td>\n",
       "    </tr>\n",
       "  </tbody>\n",
       "</table>\n",
       "</div>"
      ],
      "text/plain": [
       "                      지점  풍속(m/s)  최대순간풍속(m/s)  해면기압(hPa)  최대파고(m)  유의파고(m)\n",
       "일시                                                                         \n",
       "2011-01-01 00:00:00  962     11.3         17.2     1011.0      NaN      NaN\n",
       "2011-01-01 01:00:00  962      8.8         18.0     1010.9      NaN      NaN\n",
       "2011-01-01 02:00:00  962      7.6         18.0     1011.0      NaN      NaN\n",
       "2011-01-01 03:00:00  962      9.4         18.0     1011.7      NaN      NaN\n",
       "2011-01-01 04:00:00  962      8.4         18.0     1012.0      NaN      NaN"
      ]
     },
     "execution_count": 20,
     "metadata": {},
     "output_type": "execute_result"
    }
   ],
   "source": [
    "df.head()"
   ]
  },
  {
   "cell_type": "markdown",
   "metadata": {},
   "source": [
    "# 관측지점 삭제"
   ]
  },
  {
   "cell_type": "code",
   "execution_count": 99,
   "metadata": {},
   "outputs": [],
   "source": [
    "import pandas as pd\n",
    "\n",
    "df = pd.read_csv('./인덱스변경/2018.csv', index_col=0)\n",
    "\n",
    "df.drop(['지점'], axis=1, inplace=True)\n",
    "\n",
    "df.to_csv('./인덱스변경/2018.csv')"
   ]
  },
  {
   "cell_type": "code",
   "execution_count": 21,
   "metadata": {},
   "outputs": [
    {
     "data": {
      "text/html": [
       "<div>\n",
       "<style scoped>\n",
       "    .dataframe tbody tr th:only-of-type {\n",
       "        vertical-align: middle;\n",
       "    }\n",
       "\n",
       "    .dataframe tbody tr th {\n",
       "        vertical-align: top;\n",
       "    }\n",
       "\n",
       "    .dataframe thead th {\n",
       "        text-align: right;\n",
       "    }\n",
       "</style>\n",
       "<table border=\"1\" class=\"dataframe\">\n",
       "  <thead>\n",
       "    <tr style=\"text-align: right;\">\n",
       "      <th></th>\n",
       "      <th>지점</th>\n",
       "      <th>풍속(m/s)</th>\n",
       "      <th>최대순간풍속(m/s)</th>\n",
       "      <th>해면기압(hPa)</th>\n",
       "      <th>최대파고(m)</th>\n",
       "      <th>유의파고(m)</th>\n",
       "    </tr>\n",
       "    <tr>\n",
       "      <th>일시</th>\n",
       "      <th></th>\n",
       "      <th></th>\n",
       "      <th></th>\n",
       "      <th></th>\n",
       "      <th></th>\n",
       "      <th></th>\n",
       "    </tr>\n",
       "  </thead>\n",
       "  <tbody>\n",
       "    <tr>\n",
       "      <th>2011-01-01 00:00:00</th>\n",
       "      <td>962</td>\n",
       "      <td>11.3</td>\n",
       "      <td>17.2</td>\n",
       "      <td>1011.0</td>\n",
       "      <td>NaN</td>\n",
       "      <td>NaN</td>\n",
       "    </tr>\n",
       "    <tr>\n",
       "      <th>2011-01-01 01:00:00</th>\n",
       "      <td>962</td>\n",
       "      <td>8.8</td>\n",
       "      <td>18.0</td>\n",
       "      <td>1010.9</td>\n",
       "      <td>NaN</td>\n",
       "      <td>NaN</td>\n",
       "    </tr>\n",
       "    <tr>\n",
       "      <th>2011-01-01 02:00:00</th>\n",
       "      <td>962</td>\n",
       "      <td>7.6</td>\n",
       "      <td>18.0</td>\n",
       "      <td>1011.0</td>\n",
       "      <td>NaN</td>\n",
       "      <td>NaN</td>\n",
       "    </tr>\n",
       "    <tr>\n",
       "      <th>2011-01-01 03:00:00</th>\n",
       "      <td>962</td>\n",
       "      <td>9.4</td>\n",
       "      <td>18.0</td>\n",
       "      <td>1011.7</td>\n",
       "      <td>NaN</td>\n",
       "      <td>NaN</td>\n",
       "    </tr>\n",
       "    <tr>\n",
       "      <th>2011-01-01 04:00:00</th>\n",
       "      <td>962</td>\n",
       "      <td>8.4</td>\n",
       "      <td>18.0</td>\n",
       "      <td>1012.0</td>\n",
       "      <td>NaN</td>\n",
       "      <td>NaN</td>\n",
       "    </tr>\n",
       "  </tbody>\n",
       "</table>\n",
       "</div>"
      ],
      "text/plain": [
       "                      지점  풍속(m/s)  최대순간풍속(m/s)  해면기압(hPa)  최대파고(m)  유의파고(m)\n",
       "일시                                                                         \n",
       "2011-01-01 00:00:00  962     11.3         17.2     1011.0      NaN      NaN\n",
       "2011-01-01 01:00:00  962      8.8         18.0     1010.9      NaN      NaN\n",
       "2011-01-01 02:00:00  962      7.6         18.0     1011.0      NaN      NaN\n",
       "2011-01-01 03:00:00  962      9.4         18.0     1011.7      NaN      NaN\n",
       "2011-01-01 04:00:00  962      8.4         18.0     1012.0      NaN      NaN"
      ]
     },
     "execution_count": 21,
     "metadata": {},
     "output_type": "execute_result"
    }
   ],
   "source": [
    "df.head()\n"
   ]
  },
  {
   "cell_type": "code",
   "execution_count": 22,
   "metadata": {},
   "outputs": [],
   "source": [
    "import pandas as pd\n",
    "\n",
    "df.rename(columns={'풍속(m/s)':'WIND_SPEED',\n",
    "                '최대순간풍속(m/s)':'GUST_WIND',\n",
    "                '해면기압(hPa)':'HPA',\n",
    "                '최대파고(m)':'MAX_WAVE',\n",
    "                '유의파고(m)':'SIG_WAVE'}, inplace=True)\n",
    "\n"
   ]
  },
  {
   "cell_type": "code",
   "execution_count": 24,
   "metadata": {},
   "outputs": [],
   "source": [
    "df.drop(['지점'], axis=1, inplace=True)"
   ]
  },
  {
   "cell_type": "code",
   "execution_count": 26,
   "metadata": {},
   "outputs": [],
   "source": [
    "df.to_csv('./등표기상관측_전처리완료/2011.csv')"
   ]
  },
  {
   "cell_type": "code",
   "execution_count": 25,
   "metadata": {},
   "outputs": [
    {
     "data": {
      "text/html": [
       "<div>\n",
       "<style scoped>\n",
       "    .dataframe tbody tr th:only-of-type {\n",
       "        vertical-align: middle;\n",
       "    }\n",
       "\n",
       "    .dataframe tbody tr th {\n",
       "        vertical-align: top;\n",
       "    }\n",
       "\n",
       "    .dataframe thead th {\n",
       "        text-align: right;\n",
       "    }\n",
       "</style>\n",
       "<table border=\"1\" class=\"dataframe\">\n",
       "  <thead>\n",
       "    <tr style=\"text-align: right;\">\n",
       "      <th></th>\n",
       "      <th>WIND_SPEED</th>\n",
       "      <th>GUST_WIND</th>\n",
       "      <th>HPA</th>\n",
       "      <th>MAX_WAVE</th>\n",
       "      <th>SIG_WAVE</th>\n",
       "    </tr>\n",
       "    <tr>\n",
       "      <th>일시</th>\n",
       "      <th></th>\n",
       "      <th></th>\n",
       "      <th></th>\n",
       "      <th></th>\n",
       "      <th></th>\n",
       "    </tr>\n",
       "  </thead>\n",
       "  <tbody>\n",
       "    <tr>\n",
       "      <th>2011-01-01 00:00:00</th>\n",
       "      <td>11.3</td>\n",
       "      <td>17.2</td>\n",
       "      <td>1011.0</td>\n",
       "      <td>NaN</td>\n",
       "      <td>NaN</td>\n",
       "    </tr>\n",
       "    <tr>\n",
       "      <th>2011-01-01 01:00:00</th>\n",
       "      <td>8.8</td>\n",
       "      <td>18.0</td>\n",
       "      <td>1010.9</td>\n",
       "      <td>NaN</td>\n",
       "      <td>NaN</td>\n",
       "    </tr>\n",
       "    <tr>\n",
       "      <th>2011-01-01 02:00:00</th>\n",
       "      <td>7.6</td>\n",
       "      <td>18.0</td>\n",
       "      <td>1011.0</td>\n",
       "      <td>NaN</td>\n",
       "      <td>NaN</td>\n",
       "    </tr>\n",
       "    <tr>\n",
       "      <th>2011-01-01 03:00:00</th>\n",
       "      <td>9.4</td>\n",
       "      <td>18.0</td>\n",
       "      <td>1011.7</td>\n",
       "      <td>NaN</td>\n",
       "      <td>NaN</td>\n",
       "    </tr>\n",
       "    <tr>\n",
       "      <th>2011-01-01 04:00:00</th>\n",
       "      <td>8.4</td>\n",
       "      <td>18.0</td>\n",
       "      <td>1012.0</td>\n",
       "      <td>NaN</td>\n",
       "      <td>NaN</td>\n",
       "    </tr>\n",
       "  </tbody>\n",
       "</table>\n",
       "</div>"
      ],
      "text/plain": [
       "                     WIND_SPEED  GUST_WIND     HPA  MAX_WAVE  SIG_WAVE\n",
       "일시                                                                    \n",
       "2011-01-01 00:00:00        11.3       17.2  1011.0       NaN       NaN\n",
       "2011-01-01 01:00:00         8.8       18.0  1010.9       NaN       NaN\n",
       "2011-01-01 02:00:00         7.6       18.0  1011.0       NaN       NaN\n",
       "2011-01-01 03:00:00         9.4       18.0  1011.7       NaN       NaN\n",
       "2011-01-01 04:00:00         8.4       18.0  1012.0       NaN       NaN"
      ]
     },
     "execution_count": 25,
     "metadata": {},
     "output_type": "execute_result"
    }
   ],
   "source": [
    "df.head()"
   ]
  },
  {
   "cell_type": "markdown",
   "metadata": {},
   "source": [
    "# 종합코드"
   ]
  },
  {
   "cell_type": "code",
   "execution_count": 111,
   "metadata": {},
   "outputs": [],
   "source": [
    "df = pd.read_csv('./등표기상관측/2010.csv', encoding='EUC-KR')"
   ]
  },
  {
   "cell_type": "code",
   "execution_count": 112,
   "metadata": {},
   "outputs": [
    {
     "data": {
      "text/html": [
       "<div>\n",
       "<style scoped>\n",
       "    .dataframe tbody tr th:only-of-type {\n",
       "        vertical-align: middle;\n",
       "    }\n",
       "\n",
       "    .dataframe tbody tr th {\n",
       "        vertical-align: top;\n",
       "    }\n",
       "\n",
       "    .dataframe thead th {\n",
       "        text-align: right;\n",
       "    }\n",
       "</style>\n",
       "<table border=\"1\" class=\"dataframe\">\n",
       "  <thead>\n",
       "    <tr style=\"text-align: right;\">\n",
       "      <th></th>\n",
       "      <th>지점</th>\n",
       "      <th>일시</th>\n",
       "      <th>풍속(m/s)</th>\n",
       "      <th>최대순간풍속(m/s)</th>\n",
       "      <th>해면기압(hPa)</th>\n",
       "      <th>최대파고(m)</th>\n",
       "      <th>유의파고(m)</th>\n",
       "    </tr>\n",
       "  </thead>\n",
       "  <tbody>\n",
       "    <tr>\n",
       "      <th>0</th>\n",
       "      <td>962</td>\n",
       "      <td>2010-01-01 00:00</td>\n",
       "      <td>4.2</td>\n",
       "      <td>14.0</td>\n",
       "      <td>1019.5</td>\n",
       "      <td>NaN</td>\n",
       "      <td>NaN</td>\n",
       "    </tr>\n",
       "    <tr>\n",
       "      <th>1</th>\n",
       "      <td>962</td>\n",
       "      <td>2010-01-01 01:00</td>\n",
       "      <td>6.8</td>\n",
       "      <td>9.2</td>\n",
       "      <td>1019.2</td>\n",
       "      <td>NaN</td>\n",
       "      <td>NaN</td>\n",
       "    </tr>\n",
       "    <tr>\n",
       "      <th>2</th>\n",
       "      <td>962</td>\n",
       "      <td>2010-01-01 02:00</td>\n",
       "      <td>3.4</td>\n",
       "      <td>9.2</td>\n",
       "      <td>1019.7</td>\n",
       "      <td>NaN</td>\n",
       "      <td>NaN</td>\n",
       "    </tr>\n",
       "    <tr>\n",
       "      <th>3</th>\n",
       "      <td>962</td>\n",
       "      <td>2010-01-01 03:00</td>\n",
       "      <td>3.9</td>\n",
       "      <td>9.2</td>\n",
       "      <td>1019.8</td>\n",
       "      <td>NaN</td>\n",
       "      <td>NaN</td>\n",
       "    </tr>\n",
       "    <tr>\n",
       "      <th>4</th>\n",
       "      <td>962</td>\n",
       "      <td>2010-01-01 04:00</td>\n",
       "      <td>5.3</td>\n",
       "      <td>9.2</td>\n",
       "      <td>1019.9</td>\n",
       "      <td>NaN</td>\n",
       "      <td>NaN</td>\n",
       "    </tr>\n",
       "  </tbody>\n",
       "</table>\n",
       "</div>"
      ],
      "text/plain": [
       "    지점                일시  풍속(m/s)  최대순간풍속(m/s)  해면기압(hPa)  최대파고(m)  유의파고(m)\n",
       "0  962  2010-01-01 00:00      4.2         14.0     1019.5      NaN      NaN\n",
       "1  962  2010-01-01 01:00      6.8          9.2     1019.2      NaN      NaN\n",
       "2  962  2010-01-01 02:00      3.4          9.2     1019.7      NaN      NaN\n",
       "3  962  2010-01-01 03:00      3.9          9.2     1019.8      NaN      NaN\n",
       "4  962  2010-01-01 04:00      5.3          9.2     1019.9      NaN      NaN"
      ]
     },
     "execution_count": 112,
     "metadata": {},
     "output_type": "execute_result"
    }
   ],
   "source": [
    "df.head(5)"
   ]
  },
  {
   "cell_type": "code",
   "execution_count": 113,
   "metadata": {},
   "outputs": [
    {
     "data": {
      "text/plain": [
       "array([962], dtype=int64)"
      ]
     },
     "execution_count": 113,
     "metadata": {},
     "output_type": "execute_result"
    }
   ],
   "source": [
    "df['지점'].unique()"
   ]
  },
  {
   "cell_type": "code",
   "execution_count": 114,
   "metadata": {},
   "outputs": [],
   "source": [
    "import pandas as pd\n",
    "\n",
    "df = pd.read_csv('./등표기상관측/2010.csv', encoding='EUC-KR')\n",
    "\n",
    "df['일시'] = pd.to_datetime(df['일시'])\n",
    "df.set_index('일시', inplace=True)\n",
    "\n",
    "df.rename(columns={'풍속(m/s)':'WIND_SPEED',\n",
    "                '최대순간풍속(m/s)':'GUST_WIND',\n",
    "                '해면기압(hPa)':'HPA',\n",
    "                '최대파고(m)':'MAX_WAVE',\n",
    "                '유의파고(m)':'SIG_WAVE'}, inplace=True)\n",
    "\n",
    "df.drop(['지점'], axis=1, inplace=True)\n",
    "\n",
    "df.to_csv('./등표기상관측_전처리완료/2010.csv')"
   ]
  },
  {
   "cell_type": "code",
   "execution_count": 115,
   "metadata": {},
   "outputs": [
    {
     "data": {
      "text/html": [
       "<div>\n",
       "<style scoped>\n",
       "    .dataframe tbody tr th:only-of-type {\n",
       "        vertical-align: middle;\n",
       "    }\n",
       "\n",
       "    .dataframe tbody tr th {\n",
       "        vertical-align: top;\n",
       "    }\n",
       "\n",
       "    .dataframe thead th {\n",
       "        text-align: right;\n",
       "    }\n",
       "</style>\n",
       "<table border=\"1\" class=\"dataframe\">\n",
       "  <thead>\n",
       "    <tr style=\"text-align: right;\">\n",
       "      <th></th>\n",
       "      <th>WIND_SPEED</th>\n",
       "      <th>GUST_WIND</th>\n",
       "      <th>HPA</th>\n",
       "      <th>MAX_WAVE</th>\n",
       "      <th>SIG_WAVE</th>\n",
       "    </tr>\n",
       "    <tr>\n",
       "      <th>일시</th>\n",
       "      <th></th>\n",
       "      <th></th>\n",
       "      <th></th>\n",
       "      <th></th>\n",
       "      <th></th>\n",
       "    </tr>\n",
       "  </thead>\n",
       "  <tbody>\n",
       "    <tr>\n",
       "      <th>2010-01-01 00:00:00</th>\n",
       "      <td>4.2</td>\n",
       "      <td>14.0</td>\n",
       "      <td>1019.5</td>\n",
       "      <td>NaN</td>\n",
       "      <td>NaN</td>\n",
       "    </tr>\n",
       "    <tr>\n",
       "      <th>2010-01-01 01:00:00</th>\n",
       "      <td>6.8</td>\n",
       "      <td>9.2</td>\n",
       "      <td>1019.2</td>\n",
       "      <td>NaN</td>\n",
       "      <td>NaN</td>\n",
       "    </tr>\n",
       "    <tr>\n",
       "      <th>2010-01-01 02:00:00</th>\n",
       "      <td>3.4</td>\n",
       "      <td>9.2</td>\n",
       "      <td>1019.7</td>\n",
       "      <td>NaN</td>\n",
       "      <td>NaN</td>\n",
       "    </tr>\n",
       "    <tr>\n",
       "      <th>2010-01-01 03:00:00</th>\n",
       "      <td>3.9</td>\n",
       "      <td>9.2</td>\n",
       "      <td>1019.8</td>\n",
       "      <td>NaN</td>\n",
       "      <td>NaN</td>\n",
       "    </tr>\n",
       "    <tr>\n",
       "      <th>2010-01-01 04:00:00</th>\n",
       "      <td>5.3</td>\n",
       "      <td>9.2</td>\n",
       "      <td>1019.9</td>\n",
       "      <td>NaN</td>\n",
       "      <td>NaN</td>\n",
       "    </tr>\n",
       "  </tbody>\n",
       "</table>\n",
       "</div>"
      ],
      "text/plain": [
       "                     WIND_SPEED  GUST_WIND     HPA  MAX_WAVE  SIG_WAVE\n",
       "일시                                                                    \n",
       "2010-01-01 00:00:00         4.2       14.0  1019.5       NaN       NaN\n",
       "2010-01-01 01:00:00         6.8        9.2  1019.2       NaN       NaN\n",
       "2010-01-01 02:00:00         3.4        9.2  1019.7       NaN       NaN\n",
       "2010-01-01 03:00:00         3.9        9.2  1019.8       NaN       NaN\n",
       "2010-01-01 04:00:00         5.3        9.2  1019.9       NaN       NaN"
      ]
     },
     "execution_count": 115,
     "metadata": {},
     "output_type": "execute_result"
    }
   ],
   "source": [
    "df.head(5)"
   ]
  },
  {
   "cell_type": "code",
   "execution_count": 116,
   "metadata": {},
   "outputs": [
    {
     "name": "stdout",
     "output_type": "stream",
     "text": [
      "<class 'pandas.core.frame.DataFrame'>\n",
      "DatetimeIndex: 8562 entries, 2010-01-01 00:00:00 to 2010-12-31 23:00:00\n",
      "Data columns (total 5 columns):\n",
      " #   Column      Non-Null Count  Dtype  \n",
      "---  ------      --------------  -----  \n",
      " 0   WIND_SPEED  8471 non-null   float64\n",
      " 1   GUST_WIND   8461 non-null   float64\n",
      " 2   HPA         8497 non-null   float64\n",
      " 3   MAX_WAVE    3659 non-null   float64\n",
      " 4   SIG_WAVE    3775 non-null   float64\n",
      "dtypes: float64(5)\n",
      "memory usage: 401.3 KB\n"
     ]
    }
   ],
   "source": [
    "df.info()"
   ]
  },
  {
   "cell_type": "markdown",
   "metadata": {},
   "source": [
    "> * 2007년 이전 자료 없음\n",
    "> * 2010년 파고 쪽 데이터 결측치가 반 이상\n",
    "> * 2018년 이전은 모두 광안\n",
    "> * 2019년 자료 없음\n",
    "> * 2020년 이후 전부 오륙도자료, 파고 쪽 데이터 없음"
   ]
  },
  {
   "cell_type": "markdown",
   "metadata": {},
   "source": []
  },
  {
   "cell_type": "code",
   "execution_count": 1,
   "metadata": {},
   "outputs": [],
   "source": [
    "import pandas as pd\n",
    "df = pd.read_csv('./등표기상관측_전처리완료/2011.csv')"
   ]
  },
  {
   "cell_type": "code",
   "execution_count": 2,
   "metadata": {},
   "outputs": [
    {
     "name": "stdout",
     "output_type": "stream",
     "text": [
      "<class 'pandas.core.frame.DataFrame'>\n",
      "RangeIndex: 8508 entries, 0 to 8507\n",
      "Data columns (total 6 columns):\n",
      " #   Column      Non-Null Count  Dtype  \n",
      "---  ------      --------------  -----  \n",
      " 0   일시          8508 non-null   object \n",
      " 1   WIND_SPEED  8482 non-null   float64\n",
      " 2   GUST_WIND   8504 non-null   float64\n",
      " 3   HPA         6864 non-null   float64\n",
      " 4   MAX_WAVE    7224 non-null   float64\n",
      " 5   SIG_WAVE    7224 non-null   float64\n",
      "dtypes: float64(5), object(1)\n",
      "memory usage: 398.9+ KB\n"
     ]
    }
   ],
   "source": [
    "df.info()"
   ]
  },
  {
   "cell_type": "code",
   "execution_count": 3,
   "metadata": {},
   "outputs": [
    {
     "name": "stdout",
     "output_type": "stream",
     "text": [
      "<class 'pandas.core.frame.DataFrame'>\n",
      "RangeIndex: 8665 entries, 0 to 8664\n",
      "Data columns (total 6 columns):\n",
      " #   Column      Non-Null Count  Dtype  \n",
      "---  ------      --------------  -----  \n",
      " 0   일시          8665 non-null   object \n",
      " 1   WIND_SPEED  8543 non-null   float64\n",
      " 2   GUST_WIND   8638 non-null   float64\n",
      " 3   HPA         6550 non-null   float64\n",
      " 4   MAX_WAVE    8606 non-null   float64\n",
      " 5   SIG_WAVE    8606 non-null   float64\n",
      "dtypes: float64(5), object(1)\n",
      "memory usage: 406.3+ KB\n"
     ]
    }
   ],
   "source": [
    "df = pd.read_csv('./등표기상관측_전처리완료/2012.csv')\n",
    "df.info()"
   ]
  },
  {
   "cell_type": "code",
   "execution_count": 4,
   "metadata": {},
   "outputs": [
    {
     "name": "stdout",
     "output_type": "stream",
     "text": [
      "<class 'pandas.core.frame.DataFrame'>\n",
      "RangeIndex: 8691 entries, 0 to 8690\n",
      "Data columns (total 6 columns):\n",
      " #   Column      Non-Null Count  Dtype  \n",
      "---  ------      --------------  -----  \n",
      " 0   일시          8691 non-null   object \n",
      " 1   WIND_SPEED  8690 non-null   float64\n",
      " 2   GUST_WIND   8691 non-null   float64\n",
      " 3   HPA         8688 non-null   float64\n",
      " 4   MAX_WAVE    8679 non-null   float64\n",
      " 5   SIG_WAVE    8679 non-null   float64\n",
      "dtypes: float64(5), object(1)\n",
      "memory usage: 407.5+ KB\n"
     ]
    }
   ],
   "source": [
    "df = pd.read_csv('./등표기상관측_전처리완료/2013.csv')\n",
    "df.info()"
   ]
  },
  {
   "cell_type": "code",
   "execution_count": 5,
   "metadata": {},
   "outputs": [
    {
     "name": "stdout",
     "output_type": "stream",
     "text": [
      "<class 'pandas.core.frame.DataFrame'>\n",
      "RangeIndex: 8734 entries, 0 to 8733\n",
      "Data columns (total 6 columns):\n",
      " #   Column      Non-Null Count  Dtype  \n",
      "---  ------      --------------  -----  \n",
      " 0   일시          8734 non-null   object \n",
      " 1   WIND_SPEED  8733 non-null   float64\n",
      " 2   GUST_WIND   8733 non-null   float64\n",
      " 3   HPA         8648 non-null   float64\n",
      " 4   MAX_WAVE    8694 non-null   float64\n",
      " 5   SIG_WAVE    8458 non-null   float64\n",
      "dtypes: float64(5), object(1)\n",
      "memory usage: 409.5+ KB\n"
     ]
    }
   ],
   "source": [
    "df = pd.read_csv('./등표기상관측_전처리완료/2014.csv')\n",
    "df.info()"
   ]
  },
  {
   "cell_type": "code",
   "execution_count": 6,
   "metadata": {},
   "outputs": [
    {
     "name": "stdout",
     "output_type": "stream",
     "text": [
      "<class 'pandas.core.frame.DataFrame'>\n",
      "RangeIndex: 8605 entries, 0 to 8604\n",
      "Data columns (total 6 columns):\n",
      " #   Column      Non-Null Count  Dtype  \n",
      "---  ------      --------------  -----  \n",
      " 0   일시          8605 non-null   object \n",
      " 1   WIND_SPEED  8593 non-null   float64\n",
      " 2   GUST_WIND   8605 non-null   float64\n",
      " 3   HPA         8596 non-null   float64\n",
      " 4   MAX_WAVE    8505 non-null   float64\n",
      " 5   SIG_WAVE    8378 non-null   float64\n",
      "dtypes: float64(5), object(1)\n",
      "memory usage: 403.5+ KB\n"
     ]
    }
   ],
   "source": [
    "df = pd.read_csv('./등표기상관측_전처리완료/2015.csv')\n",
    "df.info()"
   ]
  },
  {
   "cell_type": "code",
   "execution_count": 7,
   "metadata": {},
   "outputs": [
    {
     "name": "stdout",
     "output_type": "stream",
     "text": [
      "<class 'pandas.core.frame.DataFrame'>\n",
      "RangeIndex: 8583 entries, 0 to 8582\n",
      "Data columns (total 6 columns):\n",
      " #   Column      Non-Null Count  Dtype  \n",
      "---  ------      --------------  -----  \n",
      " 0   일시          8583 non-null   object \n",
      " 1   WIND_SPEED  8583 non-null   float64\n",
      " 2   GUST_WIND   8583 non-null   float64\n",
      " 3   HPA         8564 non-null   float64\n",
      " 4   MAX_WAVE    8369 non-null   float64\n",
      " 5   SIG_WAVE    7940 non-null   float64\n",
      "dtypes: float64(5), object(1)\n",
      "memory usage: 402.5+ KB\n"
     ]
    }
   ],
   "source": [
    "df = pd.read_csv('./등표기상관측_전처리완료/2016.csv')\n",
    "df.info()"
   ]
  },
  {
   "cell_type": "code",
   "execution_count": 8,
   "metadata": {},
   "outputs": [
    {
     "name": "stdout",
     "output_type": "stream",
     "text": [
      "<class 'pandas.core.frame.DataFrame'>\n",
      "RangeIndex: 8702 entries, 0 to 8701\n",
      "Data columns (total 6 columns):\n",
      " #   Column      Non-Null Count  Dtype  \n",
      "---  ------      --------------  -----  \n",
      " 0   일시          8702 non-null   object \n",
      " 1   WIND_SPEED  8702 non-null   float64\n",
      " 2   GUST_WIND   8702 non-null   float64\n",
      " 3   HPA         8701 non-null   float64\n",
      " 4   MAX_WAVE    8643 non-null   float64\n",
      " 5   SIG_WAVE    8269 non-null   float64\n",
      "dtypes: float64(5), object(1)\n",
      "memory usage: 408.0+ KB\n"
     ]
    }
   ],
   "source": [
    "df = pd.read_csv('./등표기상관측_전처리완료/2017.csv')\n",
    "df.info()"
   ]
  },
  {
   "cell_type": "code",
   "execution_count": 9,
   "metadata": {},
   "outputs": [
    {
     "name": "stdout",
     "output_type": "stream",
     "text": [
      "<class 'pandas.core.frame.DataFrame'>\n",
      "RangeIndex: 6586 entries, 0 to 6585\n",
      "Data columns (total 6 columns):\n",
      " #   Column      Non-Null Count  Dtype  \n",
      "---  ------      --------------  -----  \n",
      " 0   일시          6586 non-null   object \n",
      " 1   WIND_SPEED  6586 non-null   float64\n",
      " 2   GUST_WIND   6586 non-null   float64\n",
      " 3   HPA         6586 non-null   float64\n",
      " 4   MAX_WAVE    6539 non-null   float64\n",
      " 5   SIG_WAVE    6440 non-null   float64\n",
      "dtypes: float64(5), object(1)\n",
      "memory usage: 308.8+ KB\n"
     ]
    }
   ],
   "source": [
    "df = pd.read_csv('./등표기상관측_전처리완료/2018.csv')\n",
    "df.info()"
   ]
  },
  {
   "cell_type": "code",
   "execution_count": 11,
   "metadata": {},
   "outputs": [
    {
     "name": "stdout",
     "output_type": "stream",
     "text": [
      "<class 'pandas.core.frame.DataFrame'>\n",
      "RangeIndex: 1398 entries, 0 to 1397\n",
      "Data columns (total 6 columns):\n",
      " #   Column      Non-Null Count  Dtype  \n",
      "---  ------      --------------  -----  \n",
      " 0   일시          1398 non-null   object \n",
      " 1   WIND_SPEED  1391 non-null   float64\n",
      " 2   GUST_WIND   1398 non-null   float64\n",
      " 3   HPA         1398 non-null   float64\n",
      " 4   MAX_WAVE    0 non-null      float64\n",
      " 5   SIG_WAVE    0 non-null      float64\n",
      "dtypes: float64(5), object(1)\n",
      "memory usage: 65.7+ KB\n"
     ]
    }
   ],
   "source": [
    "df = pd.read_csv('./등표기상관측_전처리완료/2020.csv')\n",
    "df.info()"
   ]
  },
  {
   "cell_type": "code",
   "execution_count": null,
   "metadata": {},
   "outputs": [],
   "source": [
    "# 2011.1.1 ~ 2020.12.31 결측치\n",
    "\n",
    "# 다대포 파고부이 \n",
    "# MAX_WAVE\t37,452\n",
    "# SIG_WAVE\t37,446\n",
    "\n",
    "\n",
    "# 등표기상관측(광안, 오륙도를 같은 지점 취급)\n",
    "# WIND_SPEED\t19,297\n",
    "# WIND_GUST\t    19,160\n",
    "# HPA\t\t    17.005\n",
    "# MAX_WAVE\t    22,341\n",
    "# SIG_WAVE\t    23,606"
   ]
  },
  {
   "cell_type": "code",
   "execution_count": 72,
   "metadata": {},
   "outputs": [],
   "source": [
    "df1 = pd.read_csv('./등표기상관측/oryukdo_bui_2021.csv')\n",
    "df2 = pd.read_csv('./등표기상관측_전처리완료/2021.csv')"
   ]
  },
  {
   "cell_type": "code",
   "execution_count": 73,
   "metadata": {},
   "outputs": [],
   "source": [
    "df2.drop(columns=['MAX_WAVE','SIG_WAVE'], inplace=True)"
   ]
  },
  {
   "cell_type": "code",
   "execution_count": 74,
   "metadata": {},
   "outputs": [
    {
     "data": {
      "text/html": [
       "<div>\n",
       "<style scoped>\n",
       "    .dataframe tbody tr th:only-of-type {\n",
       "        vertical-align: middle;\n",
       "    }\n",
       "\n",
       "    .dataframe tbody tr th {\n",
       "        vertical-align: top;\n",
       "    }\n",
       "\n",
       "    .dataframe thead th {\n",
       "        text-align: right;\n",
       "    }\n",
       "</style>\n",
       "<table border=\"1\" class=\"dataframe\">\n",
       "  <thead>\n",
       "    <tr style=\"text-align: right;\">\n",
       "      <th></th>\n",
       "      <th>일시</th>\n",
       "      <th>WIND_SPEED</th>\n",
       "      <th>GUST_WIND</th>\n",
       "      <th>SIG_WAVE</th>\n",
       "      <th>MAX_WAVE</th>\n",
       "      <th>HPA</th>\n",
       "    </tr>\n",
       "  </thead>\n",
       "  <tbody>\n",
       "    <tr>\n",
       "      <th>1</th>\n",
       "      <td>2021-01-01 01:00:00</td>\n",
       "      <td>3.3</td>\n",
       "      <td>4.7</td>\n",
       "      <td>0.5</td>\n",
       "      <td>0.7</td>\n",
       "      <td>1024.6</td>\n",
       "    </tr>\n",
       "    <tr>\n",
       "      <th>2</th>\n",
       "      <td>2021-01-01 02:00:00</td>\n",
       "      <td>6.6</td>\n",
       "      <td>7.4</td>\n",
       "      <td>0.5</td>\n",
       "      <td>0.6</td>\n",
       "      <td>1024.7</td>\n",
       "    </tr>\n",
       "    <tr>\n",
       "      <th>3</th>\n",
       "      <td>2021-01-01 03:00:00</td>\n",
       "      <td>5.4</td>\n",
       "      <td>6.5</td>\n",
       "      <td>0.5</td>\n",
       "      <td>0.7</td>\n",
       "      <td>1025.1</td>\n",
       "    </tr>\n",
       "    <tr>\n",
       "      <th>4</th>\n",
       "      <td>2021-01-01 04:00:00</td>\n",
       "      <td>4.1</td>\n",
       "      <td>5.6</td>\n",
       "      <td>0.5</td>\n",
       "      <td>0.6</td>\n",
       "      <td>1026.1</td>\n",
       "    </tr>\n",
       "    <tr>\n",
       "      <th>5</th>\n",
       "      <td>2021-01-01 05:00:00</td>\n",
       "      <td>3.6</td>\n",
       "      <td>4.7</td>\n",
       "      <td>0.5</td>\n",
       "      <td>0.7</td>\n",
       "      <td>1026.4</td>\n",
       "    </tr>\n",
       "    <tr>\n",
       "      <th>...</th>\n",
       "      <td>...</td>\n",
       "      <td>...</td>\n",
       "      <td>...</td>\n",
       "      <td>...</td>\n",
       "      <td>...</td>\n",
       "      <td>...</td>\n",
       "    </tr>\n",
       "    <tr>\n",
       "      <th>8728</th>\n",
       "      <td>2021-12-30 20:00:00</td>\n",
       "      <td>10.4</td>\n",
       "      <td>12.4</td>\n",
       "      <td>0.4</td>\n",
       "      <td>0.7</td>\n",
       "      <td>1021.8</td>\n",
       "    </tr>\n",
       "    <tr>\n",
       "      <th>8729</th>\n",
       "      <td>2021-12-30 21:00:00</td>\n",
       "      <td>9.5</td>\n",
       "      <td>11.9</td>\n",
       "      <td>0.4</td>\n",
       "      <td>0.7</td>\n",
       "      <td>1022.5</td>\n",
       "    </tr>\n",
       "    <tr>\n",
       "      <th>8730</th>\n",
       "      <td>2021-12-30 22:00:00</td>\n",
       "      <td>6.7</td>\n",
       "      <td>7.7</td>\n",
       "      <td>0.5</td>\n",
       "      <td>0.7</td>\n",
       "      <td>1023.3</td>\n",
       "    </tr>\n",
       "    <tr>\n",
       "      <th>8731</th>\n",
       "      <td>2021-12-30 23:00:00</td>\n",
       "      <td>6.3</td>\n",
       "      <td>7.6</td>\n",
       "      <td>0.5</td>\n",
       "      <td>0.6</td>\n",
       "      <td>1024.0</td>\n",
       "    </tr>\n",
       "    <tr>\n",
       "      <th>8732</th>\n",
       "      <td>2021-12-31 00:00:00</td>\n",
       "      <td>5.5</td>\n",
       "      <td>6.4</td>\n",
       "      <td>0.4</td>\n",
       "      <td>0.6</td>\n",
       "      <td>1024.0</td>\n",
       "    </tr>\n",
       "  </tbody>\n",
       "</table>\n",
       "<p>8311 rows × 6 columns</p>\n",
       "</div>"
      ],
      "text/plain": [
       "                       일시  WIND_SPEED  GUST_WIND  SIG_WAVE  MAX_WAVE     HPA\n",
       "1     2021-01-01 01:00:00         3.3        4.7       0.5       0.7  1024.6\n",
       "2     2021-01-01 02:00:00         6.6        7.4       0.5       0.6  1024.7\n",
       "3     2021-01-01 03:00:00         5.4        6.5       0.5       0.7  1025.1\n",
       "4     2021-01-01 04:00:00         4.1        5.6       0.5       0.6  1026.1\n",
       "5     2021-01-01 05:00:00         3.6        4.7       0.5       0.7  1026.4\n",
       "...                   ...         ...        ...       ...       ...     ...\n",
       "8728  2021-12-30 20:00:00        10.4       12.4       0.4       0.7  1021.8\n",
       "8729  2021-12-30 21:00:00         9.5       11.9       0.4       0.7  1022.5\n",
       "8730  2021-12-30 22:00:00         6.7        7.7       0.5       0.7  1023.3\n",
       "8731  2021-12-30 23:00:00         6.3        7.6       0.5       0.6  1024.0\n",
       "8732  2021-12-31 00:00:00         5.5        6.4       0.4       0.6  1024.0\n",
       "\n",
       "[8311 rows x 6 columns]"
      ]
     },
     "execution_count": 74,
     "metadata": {},
     "output_type": "execute_result"
    }
   ],
   "source": [
    "df = pd.merge(df2, df1, how='outer', on='일시')\n",
    "df = df[['일시','WIND_SPEED','GUST_WIND','SIG_WAVE','MAX_WAVE','HPA']]\n",
    "df.dropna(inplace=True)\n",
    "df.to_csv('./등표기상관측_순서정리/2021.csv')\n",
    "df"
   ]
  },
  {
   "cell_type": "code",
   "execution_count": 57,
   "metadata": {},
   "outputs": [],
   "source": [
    "import pandas as pd\n",
    "df = pd.read_csv('./등표기상관측_전처리완료/2020.csv')\n",
    "df = df[['일시','WIND_SPEED','GUST_WIND','SIG_WAVE','MAX_WAVE','HPA']]\n",
    "df.set_index('일시',inplace=True)\n",
    "# df.dropna(inplace=True)\n",
    "df.to_csv('./등표기상관측_순서정리/2020.csv')"
   ]
  },
  {
   "cell_type": "code",
   "execution_count": 3,
   "metadata": {},
   "outputs": [],
   "source": [
    "import pandas as pd\n",
    "df = pd.read_csv('./등표기상관측_순서정리/2021.csv', index_col=0)\n",
    "df.set_index('일시',inplace=True)\n",
    "df.to_csv('./등표기상관측_순서정리/2021.csv')"
   ]
  }
 ],
 "metadata": {
  "kernelspec": {
   "display_name": "Python 3.9.13 64-bit",
   "language": "python",
   "name": "python3"
  },
  "language_info": {
   "codemirror_mode": {
    "name": "ipython",
    "version": 3
   },
   "file_extension": ".py",
   "mimetype": "text/x-python",
   "name": "python",
   "nbconvert_exporter": "python",
   "pygments_lexer": "ipython3",
   "version": "3.9.13"
  },
  "orig_nbformat": 4,
  "vscode": {
   "interpreter": {
    "hash": "81794d4967e6c3204c66dcd87b604927b115b27c00565d3d43f05ba2f3a2cb0d"
   }
  }
 },
 "nbformat": 4,
 "nbformat_minor": 2
}
